{
 "cells": [
  {
   "cell_type": "code",
   "execution_count": 0,
   "metadata": {
    "application/vnd.databricks.v1+cell": {
     "cellMetadata": {
      "byteLimit": 2048000,
      "rowLimit": 10000
     },
     "inputWidgets": {},
     "nuid": "e6c5020d-bab7-4a59-92ed-fdccb769c631",
     "showTitle": false,
     "tableResultSettingsMap": {},
     "title": ""
    }
   },
   "outputs": [],
   "source": [
    "CREATE OR REPLACE TEMP VIEW country_wise_sales_temp_v AS\n",
    "SELECT c.region, c.country, SUM(total_profit) / NULLIF(SUM(total_revenue), 0) * 100 AS profit_percentage, COUNT(DISTINCT order_id) AS country_order_count, current_timestamp() as load_timestamp, current_user() as loaded_by\n",
    "FROM sales_fact_slvr s  \n",
    "JOIN country_dim_slvr c  \n",
    "ON c.id = s.country_id\n",
    "GROUP BY c.region, c.country\n",
    "ORDER BY profit_percentage DESC"
   ]
  },
  {
   "cell_type": "code",
   "execution_count": 0,
   "metadata": {
    "application/vnd.databricks.v1+cell": {
     "cellMetadata": {
      "byteLimit": 2048000,
      "rowLimit": 10000
     },
     "inputWidgets": {},
     "nuid": "03b7325f-fae0-4bdb-8172-cad9500e29f9",
     "showTitle": false,
     "tableResultSettingsMap": {},
     "title": ""
    }
   },
   "outputs": [],
   "source": [
    "MERGE INTO country_wise_sales_gold t\n",
    "USING country_wise_sales_temp_v s\n",
    "ON t.country = s.country\n",
    "WHEN MATCHED THEN UPDATE SET *\n",
    "WHEN NOT MATCHED THEN INSERT *"
   ]
  },
  {
   "cell_type": "code",
   "execution_count": 0,
   "metadata": {
    "application/vnd.databricks.v1+cell": {
     "cellMetadata": {
      "byteLimit": 2048000,
      "rowLimit": 10000
     },
     "inputWidgets": {},
     "nuid": "0a3a115f-39cc-40b6-aa25-89e5c220e80c",
     "showTitle": false,
     "tableResultSettingsMap": {},
     "title": ""
    }
   },
   "outputs": [],
   "source": [
    "CREATE OR REPLACE TEMP VIEW week_wise_sales_temp_v AS\n",
    "SELECT\n",
    "  c.country,\n",
    "  date_format(order_date, 'EEEE') AS order_weekday,\n",
    "  COUNT(DISTINCT order_id) AS weekday_order_count,\n",
    "  current_timestamp() as load_timestamp, current_user() as loaded_by\n",
    "FROM sales_fact_slvr s  \n",
    "JOIN country_dim_slvr c  \n",
    "ON c.id = s.country_id\n",
    "GROUP BY c.country, date_format(order_date, 'EEEE')\n",
    "ORDER BY weekday_order_count DESC;"
   ]
  },
  {
   "cell_type": "code",
   "execution_count": 0,
   "metadata": {
    "application/vnd.databricks.v1+cell": {
     "cellMetadata": {
      "byteLimit": 2048000,
      "rowLimit": 10000
     },
     "inputWidgets": {},
     "nuid": "ad11a11e-bc7a-48ff-8cb9-f93be61add56",
     "showTitle": false,
     "tableResultSettingsMap": {},
     "title": ""
    }
   },
   "outputs": [],
   "source": [
    "MERGE INTO week_wise_sales_gold t\n",
    "USING week_wise_sales_temp_v s\n",
    "ON t.country = s.country AND t.order_weekday = s.order_weekday\n",
    "WHEN MATCHED THEN UPDATE SET *\n",
    "WHEN NOT MATCHED THEN INSERT *"
   ]
  },
  {
   "cell_type": "code",
   "execution_count": 0,
   "metadata": {
    "application/vnd.databricks.v1+cell": {
     "cellMetadata": {
      "byteLimit": 2048000,
      "rowLimit": 10000
     },
     "inputWidgets": {},
     "nuid": "3d7a3b1e-f47c-4002-bdf7-63a9d93b539e",
     "showTitle": false,
     "tableResultSettingsMap": {},
     "title": ""
    }
   },
   "outputs": [],
   "source": [
    "CREATE OR REPLACE TEMP VIEW order_fulfillment_temp_v AS\n",
    "SELECT\n",
    "  c.country,\n",
    "  o.sales_channel,\n",
    "  CASE o.order_priority\n",
    "    WHEN 'L' THEN 'LOW'\n",
    "    WHEN 'M' THEN 'MEDIUM'\n",
    "    WHEN 'H' THEN 'HIGH'\n",
    "    WHEN 'C' THEN 'CRITICAL'\n",
    "  END AS order_priority,\n",
    "  AVG(datediff(ship_date, order_date)) AS avg_fulfillment_days,\n",
    "  PERCENTILE(datediff(ship_date, order_date), 0.5) AS median_fulfillment_days,\n",
    "  PERCENTILE(datediff(ship_date, order_date), 0.9) AS p90_fulfillment_days,\n",
    "  SUM(CASE WHEN datediff(ship_date, order_date) <= 3 THEN 1 ELSE 0 END) * 100.0 / COUNT(*) \n",
    "      AS sla_3day_compliance,\n",
    "   current_timestamp() as load_timestamp, current_user() as loaded_by\n",
    "FROM sales_fact_slvr s  \n",
    "JOIN country_dim_slvr c  \n",
    "ON c.id = s.country_id\n",
    "JOIN order_type_dim_slvr o  \n",
    "ON o.id = s.order_type_id\n",
    "GROUP BY c.country,\n",
    "  o.sales_channel,\n",
    "  o.order_priority\n",
    "ORDER BY sla_3day_compliance DESC;\n"
   ]
  },
  {
   "cell_type": "code",
   "execution_count": 0,
   "metadata": {
    "application/vnd.databricks.v1+cell": {
     "cellMetadata": {
      "byteLimit": 2048000,
      "rowLimit": 10000
     },
     "inputWidgets": {},
     "nuid": "fec91484-7a6e-45f1-91ac-e0331c5235ab",
     "showTitle": false,
     "tableResultSettingsMap": {
      "0": {
       "dataGridStateBlob": "{\"version\":1,\"tableState\":{\"columnPinning\":{\"left\":[\"#row_number#\"],\"right\":[]},\"columnSizing\":{},\"columnVisibility\":{}},\"settings\":{\"columns\":{}},\"syncTimestamp\":1759215852537}",
       "filterBlob": null,
       "queryPlanFiltersBlob": null,
       "tableResultIndex": 0
      }
     },
     "title": ""
    }
   },
   "outputs": [],
   "source": [
    "MERGE INTO order_fulfillment_gold t\n",
    "USING order_fulfillment_temp_v s\n",
    "ON t.country = s.country and t.sales_channel = s.sales_channel and t.order_priority = s.order_priority\n",
    "WHEN MATCHED THEN UPDATE SET *\n",
    "WHEN NOT MATCHED THEN INSERT *"
   ]
  }
 ],
 "metadata": {
  "application/vnd.databricks.v1+notebook": {
   "computePreferences": null,
   "dashboards": [],
   "environmentMetadata": {
    "base_environment": "",
    "environment_version": "3"
   },
   "inputWidgetPreferences": null,
   "language": "sql",
   "notebookMetadata": {
    "pythonIndentUnit": 4
   },
   "notebookName": "Gold Loader",
   "widgets": {}
  },
  "language_info": {
   "name": "sql"
  }
 },
 "nbformat": 4,
 "nbformat_minor": 0
}
