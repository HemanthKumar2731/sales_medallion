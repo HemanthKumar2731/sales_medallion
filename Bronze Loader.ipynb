{
 "cells": [
  {
   "cell_type": "code",
   "execution_count": 0,
   "metadata": {
    "application/vnd.databricks.v1+cell": {
     "cellMetadata": {
      "byteLimit": 2048000,
      "rowLimit": 10000
     },
     "inputWidgets": {},
     "nuid": "7b713f9f-c013-4a98-b2d8-6a41772fb190",
     "showTitle": false,
     "tableResultSettingsMap": {},
     "title": ""
    }
   },
   "outputs": [],
   "source": [
    "DECLARE OR REPLACE VARIABLE var_as_of_date DATE;\n",
    "SET VAR var_as_of_date = '${as_of_date}' :: DATE;"
   ]
  },
  {
   "cell_type": "code",
   "execution_count": 0,
   "metadata": {
    "application/vnd.databricks.v1+cell": {
     "cellMetadata": {
      "byteLimit": 2048000,
      "rowLimit": 10000
     },
     "inputWidgets": {},
     "nuid": "8a5e8d63-48d4-45e7-992c-bf7281f8e303",
     "showTitle": false,
     "tableResultSettingsMap": {},
     "title": ""
    }
   },
   "outputs": [],
   "source": [
    "CREATE OR REPLACE TEMP VIEW filtered_sales_records_temp_v AS\n",
    "SELECT *,\n",
    "CURRENT_TIMESTAMP() AS load_timestamp, CURRENT_USER() AS loaded_by\n",
    "FROM default.sales_records\n",
    "WHERE order_date <= var_as_of_date"
   ]
  },
  {
   "cell_type": "code",
   "execution_count": 0,
   "metadata": {
    "application/vnd.databricks.v1+cell": {
     "cellMetadata": {
      "byteLimit": 2048000,
      "rowLimit": 10000
     },
     "inputWidgets": {},
     "nuid": "9e5efeb4-1b6e-49d8-aa44-385e3ff0f9ec",
     "showTitle": false,
     "tableResultSettingsMap": {},
     "title": ""
    }
   },
   "outputs": [],
   "source": [
    "MERGE INTO default.sales_brnz t\n",
    "USING filtered_sales_records_temp_v s\n",
    "ON s.order_id = t.order_id\n",
    "WHEN MATCHED \n",
    "THEN UPDATE \n",
    "SET t.load_timestamp = s.load_timestamp,\n",
    "  t.loaded_by = s.loaded_by\n",
    "WHEN NOT MATCHED THEN INSERT (region, country, item_type, sales_channel, order_priority, order_date, order_id, ship_date, units_sold, unit_price, unit_cost, total_revenue, total_cost, total_profit,  load_timestamp, loaded_by)\n",
    "VALUES (s.region, s.country, s.item_type, s.sales_channel, s.order_priority, s.order_date, s.order_id, s.ship_date, s.units_sold, s.unit_price, s.unit_cost, s.total_revenue, s.total_cost, s.total_profit, s.load_timestamp, s.loaded_by)"
   ]
  }
 ],
 "metadata": {
  "application/vnd.databricks.v1+notebook": {
   "computePreferences": null,
   "dashboards": [],
   "environmentMetadata": {
    "base_environment": "",
    "environment_version": "3"
   },
   "inputWidgetPreferences": null,
   "language": "sql",
   "notebookMetadata": {
    "pythonIndentUnit": 4
   },
   "notebookName": "Bronze Loader",
   "widgets": {
    "as_of_date": {
     "currentValue": "2014-06-01",
     "nuid": "3538e17f-336c-4c1a-9d2c-f7ce916d74c2",
     "typedWidgetInfo": {
      "autoCreated": false,
      "defaultValue": "2014-06-01",
      "label": "",
      "name": "as_of_date",
      "options": {
       "widgetDisplayType": "Text",
       "validationRegex": null
      },
      "parameterDataType": "String"
     },
     "widgetInfo": {
      "widgetType": "text",
      "defaultValue": "2014-06-01",
      "label": "",
      "name": "as_of_date",
      "options": {
       "widgetType": "text",
       "autoCreated": false,
       "validationRegex": null
      }
     }
    }
   }
  },
  "language_info": {
   "name": "sql"
  }
 },
 "nbformat": 4,
 "nbformat_minor": 0
}
