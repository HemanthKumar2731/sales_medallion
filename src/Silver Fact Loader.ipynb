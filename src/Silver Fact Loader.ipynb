{
 "cells": [
  {
   "cell_type": "code",
   "execution_count": 0,
   "metadata": {
    "application/vnd.databricks.v1+cell": {
     "cellMetadata": {
      "byteLimit": 2048000,
      "rowLimit": 10000
     },
     "inputWidgets": {},
     "nuid": "cd96de05-6984-440a-b2c6-dbfdf5774eb5",
     "showTitle": false,
     "tableResultSettingsMap": {},
     "title": ""
    }
   },
   "outputs": [],
   "source": [
    "DECLARE OR REPLACE VARIABLE var_recent_ts TIMESTAMP;\n",
    "SET VAR var_recent_ts =\n",
    "(SELECT MAX(load_timestamp) recent_ts\n",
    "FROM default.sales_brnz);"
   ]
  },
  {
   "cell_type": "code",
   "execution_count": 0,
   "metadata": {
    "application/vnd.databricks.v1+cell": {
     "cellMetadata": {
      "byteLimit": 2048000,
      "rowLimit": 10000
     },
     "inputWidgets": {},
     "nuid": "7cad4196-0cd9-4dcf-b317-d8796cd9201c",
     "showTitle": false,
     "tableResultSettingsMap": {},
     "title": ""
    }
   },
   "outputs": [],
   "source": [
    "CREATE OR REPLACE TEMP VIEW sales_fact_temp_v AS\n",
    "SELECT c.id as country_id, i.id as item_type_id, o.id as order_type_id,\n",
    "b.order_date,b.order_id,b.ship_date,b.units_sold,b.unit_price,b.unit_cost,b.total_revenue,b.total_cost,b.total_profit,CURRENT_TIMESTAMP() as load_timestamp, CURRENT_USER() as loaded_by\n",
    "FROM sales_brnz b\n",
    "JOIN country_dim_slvr c \n",
    "ON c.country = b.country\n",
    "JOIN item_type_dim_slvr i \n",
    "ON i.item_type = b.item_type\n",
    "JOIN order_type_dim_slvr o  \n",
    "ON o.sales_channel = b.sales_channel AND o.order_priority = b.order_priority\n",
    "WHERE load_timestamp = var_recent_ts "
   ]
  },
  {
   "cell_type": "code",
   "execution_count": 0,
   "metadata": {
    "application/vnd.databricks.v1+cell": {
     "cellMetadata": {
      "byteLimit": 2048000,
      "rowLimit": 10000
     },
     "inputWidgets": {},
     "nuid": "821c97b1-9d8b-4f4f-8740-85e9082584c5",
     "showTitle": false,
     "tableResultSettingsMap": {},
     "title": ""
    }
   },
   "outputs": [],
   "source": [
    "MERGE INTO sales_fact_slvr t\n",
    "USING sales_fact_temp_v s\n",
    "ON t.order_id = s.order_id\n",
    "WHEN MATCHED THEN UPDATE SET t.load_timestamp = s.load_timestamp, t.loaded_by = s.loaded_by\n",
    "WHEN NOT MATCHED THEN INSERT *"
   ]
  }
 ],
 "metadata": {
  "application/vnd.databricks.v1+notebook": {
   "computePreferences": null,
   "dashboards": [],
   "environmentMetadata": {
    "base_environment": "",
    "environment_version": "3"
   },
   "inputWidgetPreferences": null,
   "language": "sql",
   "notebookMetadata": {
    "pythonIndentUnit": 4
   },
   "notebookName": "Silver Fact Loader",
   "widgets": {}
  },
  "language_info": {
   "name": "sql"
  }
 },
 "nbformat": 4,
 "nbformat_minor": 0
}
