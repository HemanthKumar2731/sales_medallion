{
 "cells": [
  {
   "cell_type": "code",
   "execution_count": 0,
   "metadata": {
    "application/vnd.databricks.v1+cell": {
     "cellMetadata": {
      "byteLimit": 2048000,
      "rowLimit": 10000
     },
     "inputWidgets": {},
     "nuid": "d9010c49-d998-473d-aafb-37396de670e9",
     "showTitle": false,
     "tableResultSettingsMap": {},
     "title": ""
    }
   },
   "outputs": [],
   "source": [
    "DECLARE OR REPLACE VARIABLE var_recent_ts TIMESTAMP;\n",
    "SET VAR var_recent_ts =\n",
    "(SELECT MAX(load_timestamp) recent_ts\n",
    "FROM default.sales_brnz);"
   ]
  },
  {
   "cell_type": "code",
   "execution_count": 0,
   "metadata": {
    "application/vnd.databricks.v1+cell": {
     "cellMetadata": {
      "byteLimit": 2048000,
      "rowLimit": 10000
     },
     "inputWidgets": {},
     "nuid": "2dc68745-2220-4e94-961d-a38b57b9a1a4",
     "showTitle": false,
     "tableResultSettingsMap": {},
     "title": ""
    }
   },
   "outputs": [],
   "source": [
    "CREATE OR REPLACE TEMP VIEW sales_country_temp_v AS\n",
    "SELECT DISTINCT country, region, var_recent_ts as recent_timestamp\n",
    "FROM default.sales_brnz\n",
    "WHERE load_timestamp = var_recent_ts"
   ]
  },
  {
   "cell_type": "code",
   "execution_count": 0,
   "metadata": {
    "application/vnd.databricks.v1+cell": {
     "cellMetadata": {
      "byteLimit": 2048000,
      "rowLimit": 10000
     },
     "inputWidgets": {},
     "nuid": "b196a160-ee7f-4ae0-a755-43081b10133f",
     "showTitle": false,
     "tableResultSettingsMap": {},
     "title": ""
    }
   },
   "outputs": [],
   "source": [
    "MERGE INTO country_dim_slvr t\n",
    "USING sales_country_temp_v s\n",
    "ON t.country = s.country\n",
    "WHEN MATCHED THEN UPDATE SET t.region = s.region, t.recent_load_ts = s.recent_timestamp\n",
    "WHEN NOT MATCHED THEN INSERT (country, region, recent_load_ts) VALUES (s.country, s.region, s.recent_timestamp);"
   ]
  },
  {
   "cell_type": "code",
   "execution_count": 0,
   "metadata": {
    "application/vnd.databricks.v1+cell": {
     "cellMetadata": {
      "byteLimit": 2048000,
      "rowLimit": 10000
     },
     "inputWidgets": {},
     "nuid": "fb4a63a1-7e94-4352-8a6d-52358ab34f82",
     "showTitle": false,
     "tableResultSettingsMap": {},
     "title": ""
    }
   },
   "outputs": [],
   "source": [
    "CREATE OR REPLACE TEMP VIEW sales_item_type_temp_v AS\n",
    "SELECT DISTINCT item_type, var_recent_ts as recent_timestamp\n",
    "FROM default.sales_brnz\n",
    "WHERE load_timestamp = var_recent_ts"
   ]
  },
  {
   "cell_type": "code",
   "execution_count": 0,
   "metadata": {
    "application/vnd.databricks.v1+cell": {
     "cellMetadata": {
      "byteLimit": 2048000,
      "rowLimit": 10000
     },
     "inputWidgets": {},
     "nuid": "caf45368-f3cd-46a5-b1b9-b860045dc612",
     "showTitle": false,
     "tableResultSettingsMap": {},
     "title": ""
    }
   },
   "outputs": [],
   "source": [
    "MERGE INTO item_type_dim_slvr t\n",
    "USING sales_item_type_temp_v s\n",
    "ON t.item_type = s.item_type\n",
    "WHEN NOT MATCHED THEN INSERT (item_type, recent_load_ts) VALUES (s.item_type, s.recent_timestamp)"
   ]
  },
  {
   "cell_type": "code",
   "execution_count": 0,
   "metadata": {
    "application/vnd.databricks.v1+cell": {
     "cellMetadata": {
      "byteLimit": 2048000,
      "rowLimit": 10000
     },
     "inputWidgets": {},
     "nuid": "f9a4c992-d147-4cd1-8882-6ad8136ca3aa",
     "showTitle": false,
     "tableResultSettingsMap": {},
     "title": ""
    }
   },
   "outputs": [],
   "source": [
    "CREATE OR REPLACE TEMP VIEW sales_order_type_temp_v AS\n",
    "SELECT DISTINCT sales_channel, order_priority, var_recent_ts as recent_timestamp\n",
    "FROM default.sales_brnz\n",
    "WHERE load_timestamp = var_recent_ts"
   ]
  },
  {
   "cell_type": "code",
   "execution_count": 0,
   "metadata": {
    "application/vnd.databricks.v1+cell": {
     "cellMetadata": {
      "byteLimit": 2048000,
      "rowLimit": 10000
     },
     "inputWidgets": {},
     "nuid": "10b481e8-f28d-4ea5-ab0b-ee09a685372a",
     "showTitle": false,
     "tableResultSettingsMap": {},
     "title": ""
    }
   },
   "outputs": [],
   "source": [
    "MERGE INTO order_type_dim_slvr t\n",
    "USING sales_order_type_temp_v s\n",
    "ON t.sales_channel = s.sales_channel AND t.order_priority = s.order_priority\n",
    "WHEN NOT MATCHED THEN INSERT (sales_channel, order_priority, recent_load_ts) VALUES (s.sales_channel, s.order_priority, s.recent_timestamp)"
   ]
  }
 ],
 "metadata": {
  "application/vnd.databricks.v1+notebook": {
   "computePreferences": null,
   "dashboards": [],
   "environmentMetadata": {
    "base_environment": "",
    "environment_version": "3"
   },
   "inputWidgetPreferences": null,
   "language": "sql",
   "notebookMetadata": {
    "pythonIndentUnit": 4
   },
   "notebookName": "Silver Dim Loader",
   "widgets": {}
  },
  "language_info": {
   "name": "sql"
  }
 },
 "nbformat": 4,
 "nbformat_minor": 0
}
