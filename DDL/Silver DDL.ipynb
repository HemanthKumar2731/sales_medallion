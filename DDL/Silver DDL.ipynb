{
 "cells": [
  {
   "cell_type": "markdown",
   "metadata": {
    "application/vnd.databricks.v1+cell": {
     "cellMetadata": {},
     "inputWidgets": {},
     "nuid": "ad9ff45e-cd76-48de-94a8-93cf53d144d3",
     "showTitle": false,
     "tableResultSettingsMap": {},
     "title": ""
    }
   },
   "source": [
    "###SILVER LAYER TABLES (Star Schema)"
   ]
  },
  {
   "cell_type": "code",
   "execution_count": 0,
   "metadata": {
    "application/vnd.databricks.v1+cell": {
     "cellMetadata": {},
     "inputWidgets": {},
     "nuid": "2c44c2a5-8fe7-4c54-b4e4-e03de61ab16d",
     "showTitle": false,
     "tableResultSettingsMap": {},
     "title": ""
    }
   },
   "outputs": [],
   "source": [
    "-- Table: country_dim_slvr (Country Dimension)\n",
    "CREATE TABLE IF NOT EXISTS country_dim_slvr (\n",
    "    id BIGINT GENERATED ALWAYS AS IDENTITY, -- Surrogate Key/Unique ID\n",
    "    country STRING,\n",
    "    region STRING,\n",
    "    recent_load_ts TIMESTAMP\n",
    ")\n",
    "USING DELTA\n",
    "COMMENT 'Silver dimension table for Country and Region data.';"
   ]
  },
  {
   "cell_type": "code",
   "execution_count": 0,
   "metadata": {
    "application/vnd.databricks.v1+cell": {
     "cellMetadata": {},
     "inputWidgets": {},
     "nuid": "6fb4ea93-0ae2-4eec-8d07-42ddc5d1c9ce",
     "showTitle": false,
     "tableResultSettingsMap": {},
     "title": ""
    }
   },
   "outputs": [],
   "source": [
    "-- Table: item_type_dim_slvr (Item Type Dimension)\n",
    "CREATE TABLE IF NOT EXISTS item_type_dim_slvr (\n",
    "    id BIGINT GENERATED ALWAYS AS IDENTITY, -- Surrogate Key/Unique ID\n",
    "    item_type STRING,\n",
    "    recent_load_ts TIMESTAMP\n",
    ")\n",
    "USING DELTA\n",
    "COMMENT 'Silver dimension table for Item Types.';"
   ]
  },
  {
   "cell_type": "code",
   "execution_count": 0,
   "metadata": {
    "application/vnd.databricks.v1+cell": {
     "cellMetadata": {},
     "inputWidgets": {},
     "nuid": "136d636f-3c9c-434d-8c4b-376d54ed576e",
     "showTitle": false,
     "tableResultSettingsMap": {},
     "title": ""
    }
   },
   "outputs": [],
   "source": [
    "-- Table: order_type_dim_slvr (Order Type Dimension)\n",
    "CREATE TABLE IF NOT EXISTS order_type_dim_slvr (\n",
    "    id BIGINT GENERATED ALWAYS AS IDENTITY, -- Surrogate Key/Unique ID\n",
    "    sales_channel STRING,\n",
    "    order_priority STRING,\n",
    "    recent_load_ts TIMESTAMP\n",
    ")\n",
    "USING DELTA\n",
    "COMMENT 'Silver dimension table for Order Channel and Priority combinations.';\n"
   ]
  },
  {
   "cell_type": "code",
   "execution_count": 0,
   "metadata": {
    "application/vnd.databricks.v1+cell": {
     "cellMetadata": {},
     "inputWidgets": {},
     "nuid": "8f007631-fbae-4382-95ee-c5c6e382881a",
     "showTitle": false,
     "tableResultSettingsMap": {},
     "title": ""
    }
   },
   "outputs": [],
   "source": [
    "-- Table: sales_fact_slvr (Sales Fact Table)\n",
    "CREATE TABLE IF NOT EXISTS sales_fact_slvr (\n",
    "    country_id INT, -- Foreign Key to country_dim_slvr\n",
    "    item_type_id INT, -- Foreign Key to item_type_dim_slvr\n",
    "    order_type_id INT, -- Foreign Key to order_type_dim_slvr\n",
    "    order_date DATE,\n",
    "    order_id BIGINT,\n",
    "    ship_date DATE,\n",
    "    units_sold BIGINT,\n",
    "    unit_price DOUBLE,\n",
    "    unit_cost DOUBLE,\n",
    "    total_revenue DOUBLE,\n",
    "    total_cost DOUBLE,\n",
    "    total_profit DOUBLE,\n",
    "    load_timestamp TIMESTAMP,\n",
    "    loaded_by STRING\n",
    ")\n",
    "USING DELTA\n",
    "COMMENT 'Silver fact table containing detailed, clean sales transaction metrics.';\n"
   ]
  }
 ],
 "metadata": {
  "application/vnd.databricks.v1+notebook": {
   "computePreferences": null,
   "dashboards": [],
   "environmentMetadata": {
    "base_environment": "",
    "environment_version": "3"
   },
   "inputWidgetPreferences": null,
   "language": "sql",
   "notebookMetadata": {
    "pythonIndentUnit": 4
   },
   "notebookName": "Silver DDL",
   "widgets": {}
  },
  "language_info": {
   "name": "sql"
  }
 },
 "nbformat": 4,
 "nbformat_minor": 0
}
