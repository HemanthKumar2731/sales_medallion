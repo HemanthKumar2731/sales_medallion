{
 "cells": [
  {
   "cell_type": "code",
   "execution_count": 0,
   "metadata": {
    "application/vnd.databricks.v1+cell": {
     "cellMetadata": {},
     "inputWidgets": {},
     "nuid": "772989e1-7136-4c94-8210-b97749cff3a8",
     "showTitle": false,
     "tableResultSettingsMap": {},
     "title": ""
    }
   },
   "outputs": [],
   "source": [
    "-- Table: sales_brnz (Seems to be sales records with load metadata)\n",
    "CREATE TABLE IF NOT EXISTS sales_brnz (\n",
    "    region STRING,\n",
    "    country STRING,\n",
    "    item_type STRING,\n",
    "    sales_channel STRING,\n",
    "    order_priority STRING,\n",
    "    order_date DATE,\n",
    "    order_id BIGINT,\n",
    "    ship_date DATE,\n",
    "    units_sold INT,\n",
    "    unit_price DECIMAL(10, 2),\n",
    "    unit_cost DECIMAL(10, 2),\n",
    "    total_revenue DECIMAL(15, 2),\n",
    "    total_cost DECIMAL(15, 2),\n",
    "    total_profit DECIMAL(15, 2),\n",
    "    load_timestamp TIMESTAMP,\n",
    "    loaded_by STRING\n",
    ")\n",
    "USING DELTA\n",
    "COMMENT 'Bronze table with raw sales data plus technical metadata (load_timestamp, loaded_by).';"
   ]
  }
 ],
 "metadata": {
  "application/vnd.databricks.v1+notebook": {
   "computePreferences": null,
   "dashboards": [],
   "environmentMetadata": {
    "base_environment": "",
    "environment_version": "3"
   },
   "inputWidgetPreferences": null,
   "language": "sql",
   "notebookMetadata": {},
   "notebookName": "Bronze DDL",
   "widgets": {}
  },
  "language_info": {
   "name": "sql"
  }
 },
 "nbformat": 4,
 "nbformat_minor": 0
}
