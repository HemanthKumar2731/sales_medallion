{
 "cells": [
  {
   "cell_type": "markdown",
   "metadata": {
    "application/vnd.databricks.v1+cell": {
     "cellMetadata": {},
     "inputWidgets": {},
     "nuid": "c0ada8a8-cdeb-462a-a83a-505718a780d9",
     "showTitle": false,
     "tableResultSettingsMap": {},
     "title": ""
    }
   },
   "source": [
    "### GOLD LAYER TABLES (Aggregated/Reporting Data)"
   ]
  },
  {
   "cell_type": "code",
   "execution_count": 0,
   "metadata": {
    "application/vnd.databricks.v1+cell": {
     "cellMetadata": {},
     "inputWidgets": {},
     "nuid": "8411c012-7f14-48f3-a442-99400a01ccb1",
     "showTitle": false,
     "tableResultSettingsMap": {},
     "title": ""
    }
   },
   "outputs": [],
   "source": [
    "-- Table: country_wise_sales_gold (Aggregated by Country/Region)\n",
    "CREATE TABLE IF NOT EXISTS country_wise_sales_gold (\n",
    "    region STRING,\n",
    "    country STRING,\n",
    "    profit_percentage DECIMAL(5, 2),\n",
    "    country_order_count INT,\n",
    "    load_timestamp TIMESTAMP,\n",
    "    loaded_by STRING\n",
    ")\n",
    "USING DELTA\n",
    "COMMENT 'Gold aggregate table showing sales metrics aggregated by Country.';"
   ]
  },
  {
   "cell_type": "code",
   "execution_count": 0,
   "metadata": {
    "application/vnd.databricks.v1+cell": {
     "cellMetadata": {},
     "inputWidgets": {},
     "nuid": "a6978520-1d49-4855-b84f-e748e4ed85c4",
     "showTitle": false,
     "tableResultSettingsMap": {},
     "title": ""
    }
   },
   "outputs": [],
   "source": [
    "-- Table: order_fulfillment_gold (Aggregated Fulfillment Metrics)\n",
    "CREATE TABLE IF NOT EXISTS order_fulfillment_gold (\n",
    "    country STRING,\n",
    "    sales_channel STRING,\n",
    "    order_priority STRING,\n",
    "    avg_fulfillment_days DECIMAL(5, 2),\n",
    "    median_fulfillment_days DECIMAL(5, 2),\n",
    "    p90_fulfillment_days DECIMAL(5, 2),\n",
    "    sla_3day_compliance DECIMAL(5, 2),\n",
    "    load_timestamp TIMESTAMP,\n",
    "    loaded_by STRING\n",
    ")\n",
    "USING DELTA\n",
    "COMMENT 'Gold aggregate table showing order fulfillment latency and SLA compliance.';"
   ]
  },
  {
   "cell_type": "code",
   "execution_count": 0,
   "metadata": {
    "application/vnd.databricks.v1+cell": {
     "cellMetadata": {},
     "inputWidgets": {},
     "nuid": "ec74d55d-ac43-41de-b042-2a1d890200aa",
     "showTitle": false,
     "tableResultSettingsMap": {},
     "title": ""
    }
   },
   "outputs": [],
   "source": [
    "-- Table: week_wise_sales_gold (Aggregated by Weekday)\n",
    "CREATE TABLE IF NOT EXISTS week_wise_sales_gold (\n",
    "    country STRING,\n",
    "    order_weekday STRING,\n",
    "    weekday_order_count INT,\n",
    "    load_timestamp TIMESTAMP,\n",
    "    loaded_by STRING\n",
    ")\n",
    "USING DELTA\n",
    "COMMENT 'Gold aggregate table showing total order count aggregated by Country and Day of the Week.';"
   ]
  }
 ],
 "metadata": {
  "application/vnd.databricks.v1+notebook": {
   "computePreferences": null,
   "dashboards": [],
   "environmentMetadata": {
    "base_environment": "",
    "environment_version": "3"
   },
   "inputWidgetPreferences": null,
   "language": "sql",
   "notebookMetadata": {
    "pythonIndentUnit": 4
   },
   "notebookName": "Gold DDL",
   "widgets": {}
  },
  "language_info": {
   "name": "sql"
  }
 },
 "nbformat": 4,
 "nbformat_minor": 0
}
